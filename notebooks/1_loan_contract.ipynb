{
 "cells": [
  {
   "cell_type": "code",
   "execution_count": null,
   "metadata": {},
   "outputs": [],
   "source": [
    "import pathlib as pl\n",
    "import sys\n",
    "import json\n",
    "import subprocess as sp\n",
    "\n",
    "import jinja2\n",
    "import pandas as pd\n",
    "import numpy as np\n",
    "\n",
    "sys.path.append(\"../\")\n",
    "import payulator as pu\n",
    "\n",
    "%load_ext autoreload\n",
    "%autoreload 2"
   ]
  },
  {
   "cell_type": "markdown",
   "metadata": {},
   "source": [
    "# Configure"
   ]
  },
  {
   "cell_type": "code",
   "execution_count": null,
   "metadata": {},
   "outputs": [],
   "source": [
    "LOAN_CODE = \"EBT-20220412\"\n",
    "LOAN_DIR = pl.Path.home() / \"merriweather/loans/active\" / LOAN_CODE\n",
    "\n",
    "%ls {LOAN_DIR}"
   ]
  },
  {
   "cell_type": "markdown",
   "metadata": {},
   "source": [
    "# Build contract from parameters"
   ]
  },
  {
   "cell_type": "code",
   "execution_count": null,
   "metadata": {},
   "outputs": [],
   "source": [
    "path = LOAN_DIR / \"parameters.json\"\n",
    "#%less {LOAN_DIR / \"parameters.json\"}\n",
    "contract = pu.read_loan_contract(path)\n",
    "contract"
   ]
  },
  {
   "cell_type": "markdown",
   "metadata": {},
   "source": [
    "# Summarize and write payment schedule to CSV\n"
   ]
  },
  {
   "cell_type": "code",
   "execution_count": null,
   "metadata": {},
   "outputs": [],
   "source": [
    "p = contract.payments()\n",
    "display(p[\"payment_schedule\"])\n",
    "for k, v in p.items():\n",
    "    if k != \"payment_schedule\":\n",
    "        print(f\"{k} = {v}\")"
   ]
  },
  {
   "cell_type": "code",
   "execution_count": null,
   "metadata": {},
   "outputs": [],
   "source": [
    "path = LOAN_DIR/\"payment_schedule.csv\"\n",
    "p[\"payment_schedule\"].to_csv(path, index=False)\n",
    "\n",
    "%ls {LOAN_DIR}"
   ]
  },
  {
   "cell_type": "markdown",
   "metadata": {},
   "source": [
    "# Write contract to PDF"
   ]
  },
  {
   "cell_type": "code",
   "execution_count": null,
   "metadata": {},
   "outputs": [],
   "source": [
    "# path = LOAN_DIR/\"contract\"/f\"contract_{LOAN_CODE}.html\"\n",
    "# contract.to_html(path)\n"
   ]
  },
  {
   "cell_type": "code",
   "execution_count": null,
   "metadata": {},
   "outputs": [],
   "source": [
    "path = LOAN_DIR / \"contract\" / f\"contract_{LOAN_CODE}.pdf\"\n",
    "if not path.parent.exists():\n",
    "    print(\"Creating directory\", path.parent)\n",
    "    path.parent.mkdir()\n",
    "    \n",
    "contract.to_pdf(path)\n"
   ]
  },
  {
   "cell_type": "code",
   "execution_count": null,
   "metadata": {},
   "outputs": [],
   "source": []
  }
 ],
 "metadata": {
  "kernelspec": {
   "display_name": "Python 3 (ipykernel)",
   "language": "python",
   "name": "python3"
  },
  "language_info": {
   "codemirror_mode": {
    "name": "ipython",
    "version": 3
   },
   "file_extension": ".py",
   "mimetype": "text/x-python",
   "name": "python",
   "nbconvert_exporter": "python",
   "pygments_lexer": "ipython3",
   "version": "3.9.12"
  }
 },
 "nbformat": 4,
 "nbformat_minor": 2
}
