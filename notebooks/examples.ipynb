{
 "cells": [
  {
   "cell_type": "code",
   "execution_count": null,
   "metadata": {},
   "outputs": [],
   "source": [
    "import pathlib as pl\n",
    "import sys\n",
    "import datetime as dt\n",
    "\n",
    "import pandas as pd\n",
    "import numpy as np\n",
    "\n",
    "sys.path.append('../')\n",
    "import payulator as pu\n",
    "\n",
    "\n",
    "%load_ext autoreload\n",
    "%autoreload 2\n",
    "\n",
    "DATA_DIR = pl.Path(\"../tests/data\")"
   ]
  },
  {
   "cell_type": "code",
   "execution_count": null,
   "metadata": {},
   "outputs": [],
   "source": [
    "loan = pu.Loan(\n",
    "    code='test',\n",
    "    principal=13_000,\n",
    "    interest_rate=0.10,\n",
    "    num_payments=26,\n",
    "    num_payments_interest_only=2,\n",
    "    payment_freq='fortnightly',\n",
    "    compounding_freq=\"fortnightly\",\n",
    "    first_payment_date=dt.date(2024, 3, 6),\n",
    "    fee=150,\n",
    ")\n",
    "p = loan.payments()\n",
    "display(p[\"payment_schedule\"])\n",
    "for k, v in p.items():\n",
    "    if k != \"payment_schedule\":\n",
    "        print(f\"{k} = {v}\")"
   ]
  },
  {
   "cell_type": "code",
   "execution_count": null,
   "metadata": {},
   "outputs": [],
   "source": [
    "schedules = [p['payment_schedule'], p['payment_schedule']]\n",
    "pu.aggregate_payment_schedules(schedules)\n"
   ]
  },
  {
   "cell_type": "code",
   "execution_count": null,
   "metadata": {},
   "outputs": [],
   "source": [
    "pu.aggregate_payment_schedules(schedules, freq=\"YE\")\n"
   ]
  },
  {
   "cell_type": "code",
   "execution_count": null,
   "metadata": {},
   "outputs": [],
   "source": [
    "path = DATA_DIR / \"good_loan_contract_params.json\"\n",
    "#%less {LOAN_DIR / \"parameters.json\"}\n",
    "contract = pu.read_loan_contract(path)\n",
    "contract"
   ]
  },
  {
   "cell_type": "code",
   "execution_count": null,
   "metadata": {},
   "outputs": [],
   "source": [
    "path = DATA_DIR / f\"contract_{contract.code}.pdf\"\n",
    "contract.to_pdf(path)\n",
    "\n",
    "# Now visually check the contract\n",
    "\n"
   ]
  },
  {
   "cell_type": "code",
   "execution_count": null,
   "metadata": {},
   "outputs": [],
   "source": [
    "# Clean up\n",
    "path.unlink()"
   ]
  },
  {
   "cell_type": "code",
   "execution_count": null,
   "metadata": {},
   "outputs": [],
   "source": []
  }
 ],
 "metadata": {
  "kernelspec": {
   "display_name": "Python 3 (ipykernel)",
   "language": "python",
   "name": "python3"
  },
  "language_info": {
   "codemirror_mode": {
    "name": "ipython",
    "version": 3
   },
   "file_extension": ".py",
   "mimetype": "text/x-python",
   "name": "python",
   "nbconvert_exporter": "python",
   "pygments_lexer": "ipython3",
   "version": "3.11.7"
  }
 },
 "nbformat": 4,
 "nbformat_minor": 4
}
