{
 "cells": [
  {
   "cell_type": "code",
   "execution_count": null,
   "metadata": {},
   "outputs": [],
   "source": [
    "import sys\n",
    "import datetime as dt\n",
    "\n",
    "import pandas as pd\n",
    "import numpy as np\n",
    "\n",
    "sys.path.append('../')\n",
    "import payulator as pu\n",
    "\n",
    "\n",
    "%load_ext autoreload\n",
    "%autoreload 2"
   ]
  },
  {
   "cell_type": "code",
   "execution_count": null,
   "metadata": {},
   "outputs": [],
   "source": [
    "loan = pu.Loan(\n",
    "    code='test',\n",
    "    principal=13_000,\n",
    "    interest_rate=0.10,\n",
    "    num_payments=48,\n",
    "    num_payments_interest_only=12,\n",
    "    payment_freq='monthly',\n",
    "    compounding_freq=\"monthly\",\n",
    "    first_payment_date=dt.date(2021, 3, 6),\n",
    "    fee=150,\n",
    ")\n",
    "s = loan.summarize()\n",
    "display(s[\"payment_schedule\"])\n",
    "for k, v in s.items():\n",
    "    if k != \"payment_schedule\":\n",
    "        print(f\"{k} = {v}\")"
   ]
  },
  {
   "cell_type": "code",
   "execution_count": null,
   "metadata": {},
   "outputs": [],
   "source": [
    "schedules = [s['payment_schedule'], s['payment_schedule']]\n",
    "pu.aggregate_payment_schedules(schedules)\n"
   ]
  },
  {
   "cell_type": "code",
   "execution_count": null,
   "metadata": {},
   "outputs": [],
   "source": [
    "pu.aggregate_payment_schedules(schedules, freq=\"Y\")\n"
   ]
  },
  {
   "cell_type": "code",
   "execution_count": null,
   "metadata": {},
   "outputs": [],
   "source": []
  }
 ],
 "metadata": {
  "kernelspec": {
   "display_name": "Python 3 (ipykernel)",
   "language": "python",
   "name": "python3"
  },
  "language_info": {
   "codemirror_mode": {
    "name": "ipython",
    "version": 3
   },
   "file_extension": ".py",
   "mimetype": "text/x-python",
   "name": "python",
   "nbconvert_exporter": "python",
   "pygments_lexer": "ipython3",
   "version": "3.9.9"
  }
 },
 "nbformat": 4,
 "nbformat_minor": 2
}
