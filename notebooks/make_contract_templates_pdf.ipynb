{
 "cells": [
  {
   "cell_type": "code",
   "execution_count": 44,
   "metadata": {},
   "outputs": [
    {
     "name": "stdout",
     "output_type": "stream",
     "text": [
      "The autoreload extension is already loaded. To reload it, use:\n",
      "  %reload_ext autoreload\n",
      "amortized_loan_contract_template.html  amortized_loan_contract_template.rst\r\n"
     ]
    }
   ],
   "source": [
    "import pathlib as pl\n",
    "import sys\n",
    "import subprocess as sp\n",
    "import shutil\n",
    "\n",
    "import weasyprint as wp\n",
    "\n",
    "sys.path.append(\"../\")\n",
    "import merriweather as mw\n",
    "\n",
    "%load_ext autoreload\n",
    "%autoreload 2\n",
    "\n",
    "TEMPLATE_DIR = pl.Path(\"../contract_templates\")\n",
    "%ls {TEMPLATE_DIR}"
   ]
  },
  {
   "cell_type": "code",
   "execution_count": 90,
   "metadata": {},
   "outputs": [],
   "source": [
    "def make_template_html(rst_path, pdf_path):\n",
    "    \"\"\"\n",
    "    \"\"\"\n",
    "    rst_path = pl.Path(rst_path)\n",
    "    rst_dir = rst_path.parent\n",
    "    \n",
    "    html_path = rst_dir / f\"{rst_path.stem}.html\"\n",
    "    \n",
    "    pdf_path = pl.Path(pdf_path)\n",
    "    pdf_dir = pdf_path.parent\n",
    "    if not pdf_dir.exists():\n",
    "        pdf_dir.mkdir(parents=True)\n",
    "        \n",
    "    # Convert RST to HTML\n",
    "    args = [\"rst2html5.py\"]\n",
    "\n",
    "    stylesheet_paths = [\n",
    "        mw.THEME_DIR/\"css\"/\"bootstrap-4.3.1.min.css\",\n",
    "        mw.THEME_DIR/\"css\"/\"style.css\",\n",
    "    ]\n",
    "    for path in stylesheet_paths:\n",
    "        arg = str(path.resolve())\n",
    "        args.append(f\"--stylesheet-inline={arg}\")\n",
    "\n",
    "    args.extend([\n",
    "        rst_path.name,\n",
    "        html_path.name,\n",
    "    ])\n",
    "\n",
    "    cp = sp.run(\n",
    "        args,\n",
    "        cwd=str(rst_dir),\n",
    "        # capture_output=True,\n",
    "        # check=True,\n",
    "        universal_newlines=True,\n",
    "        stdout=sp.PIPE,\n",
    "        stderr=sp.PIPE,\n",
    "    )\n",
    "    if cp.stderr:\n",
    "        print(\"Failed:\", cp.stderr)\n",
    "\n",
    "    # Delete HTML path\n",
    "    \n",
    "    # Convert HTML to PDF\n",
    "    wp.HTML(filename=html_path).write_pdf(pdf_path)\n"
   ]
  },
  {
   "cell_type": "code",
   "execution_count": 106,
   "metadata": {},
   "outputs": [],
   "source": [
    "make_template_html(\n",
    "    TEMPLATE_DIR / \"amortized_loan_contract_template.rst\",\n",
    "    TEMPLATE_DIR / \"amortized_loan_contract_template.pdf\"\n",
    ")\n",
    "make_template_html(\n",
    "    TEMPLATE_DIR / \"interest_only_loan_contract_template.rst\",\n",
    "    TEMPLATE_DIR / \"interest_only_loan_contract_template.pdf\"\n",
    ")"
   ]
  },
  {
   "cell_type": "code",
   "execution_count": null,
   "metadata": {},
   "outputs": [],
   "source": []
  }
 ],
 "metadata": {
  "kernelspec": {
   "display_name": "Python 3",
   "language": "python",
   "name": "python3"
  },
  "language_info": {
   "codemirror_mode": {
    "name": "ipython",
    "version": 3
   },
   "file_extension": ".py",
   "mimetype": "text/x-python",
   "name": "python",
   "nbconvert_exporter": "python",
   "pygments_lexer": "ipython3",
   "version": "3.8.5"
  }
 },
 "nbformat": 4,
 "nbformat_minor": 4
}
